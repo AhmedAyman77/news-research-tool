{
  "cells": [
    {
      "cell_type": "code",
      "source": [
        "!pip install streamlit langchain langchain_community unstructured faiss-cpu"
      ],
      "metadata": {
        "id": "rmf5o6tYvguU"
      },
      "id": "rmf5o6tYvguU",
      "execution_count": null,
      "outputs": []
    },
    {
      "cell_type": "code",
      "source": [
        "!pip install -qU langchain-groq"
      ],
      "metadata": {
        "id": "a7pByx57wcFv"
      },
      "id": "a7pByx57wcFv",
      "execution_count": 52,
      "outputs": []
    },
    {
      "cell_type": "code",
      "source": [
        "!pip install -qU langchain-ollama"
      ],
      "metadata": {
        "id": "OnPh-L84ymIp"
      },
      "id": "OnPh-L84ymIp",
      "execution_count": 39,
      "outputs": []
    },
    {
      "cell_type": "code",
      "execution_count": 48,
      "id": "0c2aff87",
      "metadata": {
        "id": "0c2aff87"
      },
      "outputs": [],
      "source": [
        "import os\n",
        "import time\n",
        "import pickle\n",
        "import langchain\n",
        "import streamlit as st\n",
        "from google.colab import userdata\n",
        "from langchain_groq import ChatGroq\n",
        "from langchain.vectorstores import FAISS\n",
        "from langchain.embeddings import HuggingFaceEmbeddings\n",
        "from langchain.chains import RetrievalQAWithSourcesChain\n",
        "from langchain.document_loaders import UnstructuredURLLoader\n",
        "from langchain.text_splitter import RecursiveCharacterTextSplitter\n",
        "from langchain.chains.qa_with_sources.loading import load_qa_with_sources_chain"
      ]
    },
    {
      "cell_type": "code",
      "execution_count": 49,
      "id": "80fc5e57",
      "metadata": {
        "id": "80fc5e57"
      },
      "outputs": [],
      "source": [
        "GROQ_API_KEY = userdata.get('GROQ_API_KEY')\n",
        "os.environ['GROQ_API_KEY'] = GROQ_API_KEY"
      ]
    },
    {
      "cell_type": "code",
      "execution_count": 50,
      "id": "39e721c4",
      "metadata": {
        "id": "39e721c4"
      },
      "outputs": [],
      "source": [
        "llm = ChatGroq(\n",
        "    model=\"llama3-8b-8192\",\n",
        "    temperature=0,\n",
        ")"
      ]
    },
    {
      "cell_type": "markdown",
      "id": "bd0c3ff7",
      "metadata": {
        "id": "bd0c3ff7"
      },
      "source": [
        "### (1) Load data"
      ]
    },
    {
      "cell_type": "code",
      "execution_count": 53,
      "id": "55fa0ef5",
      "metadata": {
        "colab": {
          "base_uri": "https://localhost:8080/"
        },
        "id": "55fa0ef5",
        "outputId": "722c287b-ef17-4f73-fe82-f959e106be52"
      },
      "outputs": [
        {
          "output_type": "execute_result",
          "data": {
            "text/plain": [
              "2"
            ]
          },
          "metadata": {},
          "execution_count": 53
        }
      ],
      "source": [
        "loaders = UnstructuredURLLoader(urls=[\n",
        "    \"https://en.wikipedia.org/wiki/Elon_Musk\",\n",
        "    \"https://en.wikipedia.org/wiki/Cristiano_Ronaldo\"\n",
        "    # \"https://www.moneycontrol.com/news/business/markets/wall-street-rises-as-tesla-soars-on-ai-optimism-11351111.html\",\n",
        "    # \"https://www.moneycontrol.com/news/business/tata-motors-launches-punch-icng-price-starts-at-rs-7-1-lakh-11098751.html\"\n",
        "])\n",
        "data = loaders.load()\n",
        "len(data)"
      ]
    },
    {
      "cell_type": "markdown",
      "id": "9f51a5bd",
      "metadata": {
        "id": "9f51a5bd"
      },
      "source": [
        "### (2) Split data to create chunks"
      ]
    },
    {
      "cell_type": "code",
      "execution_count": 54,
      "id": "054a6361",
      "metadata": {
        "id": "054a6361"
      },
      "outputs": [],
      "source": [
        "text_splitter = RecursiveCharacterTextSplitter(\n",
        "    chunk_size=1000,\n",
        "    chunk_overlap=200\n",
        ")\n",
        "\n",
        "# As data is of type documents we can directly use split_documents over split_text in order to get the chunks.\n",
        "docs = text_splitter.split_documents(data)"
      ]
    },
    {
      "cell_type": "code",
      "execution_count": 55,
      "id": "379e3d94",
      "metadata": {
        "colab": {
          "base_uri": "https://localhost:8080/"
        },
        "id": "379e3d94",
        "outputId": "4d407d3b-cccf-495f-9d6a-f2f633ba692d"
      },
      "outputs": [
        {
          "output_type": "execute_result",
          "data": {
            "text/plain": [
              "519"
            ]
          },
          "metadata": {},
          "execution_count": 55
        }
      ],
      "source": [
        "len(docs)"
      ]
    },
    {
      "cell_type": "code",
      "execution_count": 56,
      "id": "637ee7ae",
      "metadata": {
        "scrolled": true,
        "colab": {
          "base_uri": "https://localhost:8080/"
        },
        "id": "637ee7ae",
        "outputId": "3a18b6ac-505c-4bf5-81c2-af76f3ea46e9"
      },
      "outputs": [
        {
          "output_type": "execute_result",
          "data": {
            "text/plain": [
              "Document(metadata={'source': 'https://en.wikipedia.org/wiki/Elon_Musk'}, page_content='Elon Musk\\n\\nAfrikaans\\n\\nአማርኛ\\n\\nÆnglisc\\n\\nالعربية\\n\\nAragonés\\n\\nԱրեւմտահայերէն\\n\\nঅসমীয়া\\n\\nAsturianu\\n\\nअवधी\\n\\nAzərbaycanca\\n\\nتۆرکجه\\n\\nBasa Bali\\n\\nবাংলা\\n\\n閩南語 / Bân-lâm-gú\\n\\nБеларуская\\n\\nБеларуская (тарашкевіца)\\n\\nभोजपुरी\\n\\nBikol Central\\n\\nБългарски\\n\\nBoarisch\\n\\nBosanski\\n\\nBrezhoneg\\n\\nБуряад\\n\\nCatalà\\n\\nЧӑвашла\\n\\nCebuano\\n\\nČeština\\n\\nCymraeg\\n\\nDansk\\n\\nالدارجة\\n\\nDeitsch\\n\\nDeutsch\\n\\nडोटेली\\n\\nEesti\\n\\nΕλληνικά\\n\\nEspañol\\n\\nEsperanto\\n\\nEuskara\\n\\nفارسی\\n\\nFrançais\\n\\nGaeilge\\n\\nGaelg\\n\\nGalego\\n\\nગુજરાતી\\n\\n客家語 / Hak-kâ-ngî\\n\\n한국어\\n\\nHausa\\n\\nՀայերեն\\n\\nहिन्दी\\n\\nHrvatski\\n\\nIdo\\n\\nBahasa Indonesia\\n\\nInterlingua\\n\\nInterlingue\\n\\nIsiZulu\\n\\nÍslenska\\n\\nItaliano\\n\\nעברית\\n\\nJawa\\n\\nಕನ್ನಡ\\n\\nKapampangan\\n\\nქართული\\n\\nकॉशुर / کٲشُر\\n\\nҚазақша\\n\\nKernowek\\n\\nKiswahili\\n\\nKreyòl ayisyen\\n\\nKurdî\\n\\nКыргызча\\n\\nLadin\\n\\nລາວ\\n\\nLatina\\n\\nLatviešu\\n\\nLëtzebuergesch\\n\\nLietuvių\\n\\nLombard\\n\\nMagyar\\n\\nमैथिली\\n\\nМакедонски\\n\\nMalagasy\\n\\nമലയാളം\\n\\nमराठी\\n\\nმარგალური\\n\\nمصرى\\n\\nمازِرونی\\n\\nBahasa Melayu\\n\\nꯃꯤꯇꯩ ꯂꯣꯟ\\n\\nМонгол\\n\\nမြန်မာဘာသာ\\n\\nNederlands\\n\\nNedersaksies\\n\\nनेपाली\\n\\n日本語\\n\\nNordfriisk\\n\\nNorsk bokmål\\n\\nNorsk nynorsk\\n\\nOccitan\\n\\nଓଡ଼ିଆ')"
            ]
          },
          "metadata": {},
          "execution_count": 56
        }
      ],
      "source": [
        "docs[0]"
      ]
    },
    {
      "cell_type": "markdown",
      "id": "9e35a876",
      "metadata": {
        "id": "9e35a876"
      },
      "source": [
        "### (3) Create embeddings for these chunks and save them to FAISS index"
      ]
    },
    {
      "cell_type": "code",
      "execution_count": 57,
      "id": "c3d0a6dd",
      "metadata": {
        "id": "c3d0a6dd"
      },
      "outputs": [],
      "source": [
        "# Create the embeddings of the chunks using openAIEmbeddings\n",
        "embeddings = HuggingFaceEmbeddings(model_name='all-MiniLM-L6-v2')\n",
        "\n",
        "# Pass the documents and embeddings inorder to create FAISS vector index\n",
        "vector_index = FAISS.from_documents(docs, embeddings)"
      ]
    },
    {
      "cell_type": "code",
      "execution_count": 58,
      "id": "a9686c13",
      "metadata": {
        "id": "a9686c13"
      },
      "outputs": [],
      "source": [
        "# Storing vector index create in local\n",
        "file_path=\"wiki_index.pkl\"\n",
        "with open(file_path, \"wb\") as f:\n",
        "    pickle.dump(vector_index, f)"
      ]
    },
    {
      "cell_type": "code",
      "execution_count": 59,
      "id": "688dc29b",
      "metadata": {
        "id": "688dc29b"
      },
      "outputs": [],
      "source": [
        "if os.path.exists(file_path):\n",
        "    with open(file_path, \"rb\") as f:\n",
        "        vectorIndex = pickle.load(f)"
      ]
    },
    {
      "cell_type": "markdown",
      "id": "fbd96296",
      "metadata": {
        "id": "fbd96296"
      },
      "source": [
        "### (4) Retrieve similar embeddings for a given question and call LLM to retrieve final answer"
      ]
    },
    {
      "cell_type": "code",
      "execution_count": 60,
      "id": "01f5e1e8",
      "metadata": {
        "colab": {
          "base_uri": "https://localhost:8080/"
        },
        "id": "01f5e1e8",
        "outputId": "164a5e41-134a-4b8d-d24e-3b1ed0b4d896"
      },
      "outputs": [
        {
          "output_type": "execute_result",
          "data": {
            "text/plain": [
              "RetrievalQAWithSourcesChain(verbose=False, combine_documents_chain=MapReduceDocumentsChain(verbose=False, llm_chain=LLMChain(verbose=False, prompt=PromptTemplate(input_variables=['context', 'question'], input_types={}, partial_variables={}, template='Use the following portion of a long document to see if any of the text is relevant to answer the question. \\nReturn any relevant text verbatim.\\n{context}\\nQuestion: {question}\\nRelevant text, if any:'), llm=ChatGroq(client=<groq.resources.chat.completions.Completions object at 0x7f66d85c6a10>, async_client=<groq.resources.chat.completions.AsyncCompletions object at 0x7f66d852b950>, model_name='llama3-8b-8192', temperature=1e-08, model_kwargs={}, groq_api_key=SecretStr('**********')), output_parser=StrOutputParser(), llm_kwargs={}), reduce_documents_chain=ReduceDocumentsChain(verbose=False, combine_documents_chain=StuffDocumentsChain(verbose=False, llm_chain=LLMChain(verbose=False, prompt=PromptTemplate(input_variables=['question', 'summaries'], input_types={}, partial_variables={}, template='Given the following extracted parts of a long document and a question, create a final answer with references (\"SOURCES\"). \\nIf you don\\'t know the answer, just say that you don\\'t know. Don\\'t try to make up an answer.\\nALWAYS return a \"SOURCES\" part in your answer.\\n\\nQUESTION: Which state/country\\'s law governs the interpretation of the contract?\\n=========\\nContent: This Agreement is governed by English law and the parties submit to the exclusive jurisdiction of the English courts in  relation to any dispute (contractual or non-contractual) concerning this Agreement save that either party may apply to any court for an  injunction or other relief to protect its Intellectual Property Rights.\\nSource: 28-pl\\nContent: No Waiver. Failure or delay in exercising any right or remedy under this Agreement shall not constitute a waiver of such (or any other)  right or remedy.\\n\\n11.7 Severability. The invalidity, illegality or unenforceability of any term (or part of a term) of this Agreement shall not affect the continuation  in force of the remainder of the term (if any) and this Agreement.\\n\\n11.8 No Agency. Except as expressly stated otherwise, nothing in this Agreement shall create an agency, partnership or joint venture of any  kind between the parties.\\n\\n11.9 No Third-Party Beneficiaries.\\nSource: 30-pl\\nContent: (b) if Google believes, in good faith, that the Distributor has violated or caused Google to violate any Anti-Bribery Laws (as  defined in Clause 8.5) or that such a violation is reasonably likely to occur,\\nSource: 4-pl\\n=========\\nFINAL ANSWER: This Agreement is governed by English law.\\nSOURCES: 28-pl\\n\\nQUESTION: What did the president say about Michael Jackson?\\n=========\\nContent: Madam Speaker, Madam Vice President, our First Lady and Second Gentleman. Members of Congress and the Cabinet. Justices of the Supreme Court. My fellow Americans.  \\n\\nLast year COVID-19 kept us apart. This year we are finally together again. \\n\\nTonight, we meet as Democrats Republicans and Independents. But most importantly as Americans. \\n\\nWith a duty to one another to the American people to the Constitution. \\n\\nAnd with an unwavering resolve that freedom will always triumph over tyranny. \\n\\nSix days ago, Russia’s Vladimir Putin sought to shake the foundations of the free world thinking he could make it bend to his menacing ways. But he badly miscalculated. \\n\\nHe thought he could roll into Ukraine and the world would roll over. Instead he met a wall of strength he never imagined. \\n\\nHe met the Ukrainian people. \\n\\nFrom President Zelenskyy to every Ukrainian, their fearlessness, their courage, their determination, inspires the world. \\n\\nGroups of citizens blocking tanks with their bodies. Everyone from students to retirees teachers turned soldiers defending their homeland.\\nSource: 0-pl\\nContent: And we won’t stop. \\n\\nWe have lost so much to COVID-19. Time with one another. And worst of all, so much loss of life. \\n\\nLet’s use this moment to reset. Let’s stop looking at COVID-19 as a partisan dividing line and see it for what it is: A God-awful disease.  \\n\\nLet’s stop seeing each other as enemies, and start seeing each other for who we really are: Fellow Americans.  \\n\\nWe can’t change how divided we’ve been. But we can change how we move forward—on COVID-19 and other issues we must face together. \\n\\nI recently visited the New York City Police Department days after the funerals of Officer Wilbert Mora and his partner, Officer Jason Rivera. \\n\\nThey were responding to a 9-1-1 call when a man shot and killed them with a stolen gun. \\n\\nOfficer Mora was 27 years old. \\n\\nOfficer Rivera was 22. \\n\\nBoth Dominican Americans who’d grown up on the same streets they later chose to patrol as police officers. \\n\\nI spoke with their families and told them that we are forever in debt for their sacrifice, and we will carry on their mission to restore the trust and safety every community deserves.\\nSource: 24-pl\\nContent: And a proud Ukrainian people, who have known 30 years  of independence, have repeatedly shown that they will not tolerate anyone who tries to take their country backwards.  \\n\\nTo all Americans, I will be honest with you, as I’ve always promised. A Russian dictator, invading a foreign country, has costs around the world. \\n\\nAnd I’m taking robust action to make sure the pain of our sanctions  is targeted at Russia’s economy. And I will use every tool at our disposal to protect American businesses and consumers. \\n\\nTonight, I can announce that the United States has worked with 30 other countries to release 60 Million barrels of oil from reserves around the world.  \\n\\nAmerica will lead that effort, releasing 30 Million barrels from our own Strategic Petroleum Reserve. And we stand ready to do more if necessary, unified with our allies.  \\n\\nThese steps will help blunt gas prices here at home. And I know the news about what’s happening can seem alarming. \\n\\nBut I want you to know that we are going to be okay.\\nSource: 5-pl\\nContent: More support for patients and families. \\n\\nTo get there, I call on Congress to fund ARPA-H, the Advanced Research Projects Agency for Health. \\n\\nIt’s based on DARPA—the Defense Department project that led to the Internet, GPS, and so much more.  \\n\\nARPA-H will have a singular purpose—to drive breakthroughs in cancer, Alzheimer’s, diabetes, and more. \\n\\nA unity agenda for the nation. \\n\\nWe can do this. \\n\\nMy fellow Americans—tonight , we have gathered in a sacred space—the citadel of our democracy. \\n\\nIn this Capitol, generation after generation, Americans have debated great questions amid great strife, and have done great things. \\n\\nWe have fought for freedom, expanded liberty, defeated totalitarianism and terror. \\n\\nAnd built the strongest, freest, and most prosperous nation the world has ever known. \\n\\nNow is the hour. \\n\\nOur moment of responsibility. \\n\\nOur test of resolve and conscience, of history itself. \\n\\nIt is in this moment that our character is formed. Our purpose is found. Our future is forged. \\n\\nWell I know this nation.\\nSource: 34-pl\\n=========\\nFINAL ANSWER: The president did not mention Michael Jackson.\\nSOURCES:\\n\\nQUESTION: {question}\\n=========\\n{summaries}\\n=========\\nFINAL ANSWER:'), llm=ChatGroq(client=<groq.resources.chat.completions.Completions object at 0x7f66d85c6a10>, async_client=<groq.resources.chat.completions.AsyncCompletions object at 0x7f66d852b950>, model_name='llama3-8b-8192', temperature=1e-08, model_kwargs={}, groq_api_key=SecretStr('**********')), output_parser=StrOutputParser(), llm_kwargs={}), document_prompt=PromptTemplate(input_variables=['page_content', 'source'], input_types={}, partial_variables={}, template='Content: {page_content}\\nSource: {source}'), document_variable_name='summaries')), document_variable_name='context'), retriever=VectorStoreRetriever(tags=['FAISS', 'HuggingFaceEmbeddings'], vectorstore=<langchain_community.vectorstores.faiss.FAISS object at 0x7f66d7b6fdd0>, search_kwargs={}))"
            ]
          },
          "metadata": {},
          "execution_count": 60
        }
      ],
      "source": [
        "chain = RetrievalQAWithSourcesChain.from_llm(llm=llm, retriever=vectorIndex.as_retriever())\n",
        "chain"
      ]
    },
    {
      "cell_type": "code",
      "execution_count": 63,
      "id": "8c2e228b",
      "metadata": {
        "scrolled": false,
        "colab": {
          "base_uri": "https://localhost:8080/"
        },
        "id": "8c2e228b",
        "outputId": "f6d44024-68be-48e2-82a4-2a7dc5f7f6a5"
      },
      "outputs": [
        {
          "output_type": "execute_result",
          "data": {
            "text/plain": [
              "{'answer': 'Cristiano Ronaldo plays for Al-Nassr, a Saudi Pro League club, and also captains the Portugal national team.\\n',\n",
              " 'sources': 'https://en.wikipedia.org/wiki/Cristiano_Ronaldo'}"
            ]
          },
          "metadata": {},
          "execution_count": 63
        }
      ],
      "source": [
        "query = \"which team does cristiano ronaldo play now\"\n",
        "# query = \"what are the main features of punch iCNG?\"\n",
        "\n",
        "# langchain.debug=True\n",
        "\n",
        "chain({\"question\": query}, return_only_outputs=True)"
      ]
    },
    {
      "cell_type": "code",
      "source": [],
      "metadata": {
        "id": "VZHH0hsu1HCw"
      },
      "id": "VZHH0hsu1HCw",
      "execution_count": null,
      "outputs": []
    }
  ],
  "metadata": {
    "kernelspec": {
      "display_name": "Python 3",
      "name": "python3"
    },
    "language_info": {
      "codemirror_mode": {
        "name": "ipython",
        "version": 3
      },
      "file_extension": ".py",
      "mimetype": "text/x-python",
      "name": "python",
      "nbconvert_exporter": "python",
      "pygments_lexer": "ipython3",
      "version": "3.10.11"
    },
    "colab": {
      "provenance": [],
      "gpuType": "T4"
    },
    "accelerator": "GPU"
  },
  "nbformat": 4,
  "nbformat_minor": 5
}