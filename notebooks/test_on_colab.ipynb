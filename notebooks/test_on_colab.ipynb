{
  "nbformat": 4,
  "nbformat_minor": 0,
  "metadata": {
    "colab": {
      "provenance": []
    },
    "kernelspec": {
      "name": "python3",
      "display_name": "Python 3"
    },
    "language_info": {
      "name": "python"
    }
  },
  "cells": [
    {
      "cell_type": "code",
      "source": [
        "!pip install streamlit langchain_groq langchain_community pyngrok"
      ],
      "metadata": {
        "id": "MNGw4yJstnsB"
      },
      "execution_count": null,
      "outputs": []
    },
    {
      "cell_type": "code",
      "source": [
        "!pip install python-dotenv unstructured faiss-cpu"
      ],
      "metadata": {
        "id": "HFJYe8dU8m6n"
      },
      "execution_count": null,
      "outputs": []
    },
    {
      "cell_type": "code",
      "source": [
        "from google.colab import userdata\n",
        "GROQ_API_KEY = userdata.get('GROQ_API_KEY')\n",
        "\n",
        "with open(\".env\", \"w\") as f:\n",
        "    f.write(f\"GROQ_API_KEY={GROQ_API_KEY}\")"
      ],
      "metadata": {
        "id": "4sij3n468pva"
      },
      "execution_count": 29,
      "outputs": []
    },
    {
      "cell_type": "code",
      "source": [
        "NGROK_AUTHTOKEN = userdata.get('NGROK_AUTHTOKEN')\n",
        "!ngrok config add-authtoken {NGROK_AUTHTOKEN}"
      ],
      "metadata": {
        "colab": {
          "base_uri": "https://localhost:8080/"
        },
        "id": "nBd6HQs00VzI",
        "outputId": "047decee-2e11-4c5f-a27f-0051dcce0211"
      },
      "execution_count": 30,
      "outputs": [
        {
          "output_type": "stream",
          "name": "stdout",
          "text": [
            "Authtoken saved to configuration file: /root/.config/ngrok/ngrok.yml\n"
          ]
        }
      ]
    },
    {
      "cell_type": "code",
      "execution_count": 60,
      "metadata": {
        "colab": {
          "base_uri": "https://localhost:8080/"
        },
        "id": "K5qZicnhtX-k",
        "outputId": "5b104d04-5951-4445-89d8-f94fb8952330"
      },
      "outputs": [
        {
          "output_type": "stream",
          "name": "stdout",
          "text": [
            "Your Streamlit app is live at: NgrokTunnel: \"https://6be7-34-16-208-27.ngrok-free.app\" -> \"http://localhost:8501\"\n"
          ]
        }
      ],
      "source": [
        "import threading\n",
        "import time\n",
        "import os\n",
        "\n",
        "from pyngrok import ngrok\n",
        "\n",
        "# Start Streamlit in a separate thread\n",
        "def run():\n",
        "    os.system('streamlit run main.py')\n",
        "\n",
        "thread = threading.Thread(target=run)\n",
        "thread.start()\n",
        "\n",
        "# Wait for app to launch\n",
        "time.sleep(5)\n",
        "\n",
        "# Open ngrok tunnel\n",
        "public_url = ngrok.connect(addr='8501')\n",
        "print(\"Your Streamlit app is live at:\", public_url)"
      ]
    },
    {
      "cell_type": "code",
      "source": [
        "!streamlit run main.py &>/content/logs.txt &"
      ],
      "metadata": {
        "id": "Eb-i4LsVtn6I"
      },
      "execution_count": 61,
      "outputs": []
    },
    {
      "cell_type": "code",
      "source": [
        "!tail -f /content/logs.txt"
      ],
      "metadata": {
        "colab": {
          "base_uri": "https://localhost:8080/"
        },
        "id": "AhzUkWxqz7N8",
        "outputId": "1e6a2ce1-ce6c-44de-9f62-9718115f1e0a"
      },
      "execution_count": 62,
      "outputs": [
        {
          "output_type": "stream",
          "name": "stdout",
          "text": [
            "\n",
            "Collecting usage statistics. To deactivate, set browser.gatherUsageStats to false.\n",
            "\n",
            "\n",
            "  You can now view your Streamlit app in your browser.\n",
            "\n",
            "  Local URL: http://localhost:8502\n",
            "  Network URL: http://172.28.0.12:8502\n",
            "  External URL: http://34.16.208.27:8502\n",
            "\n",
            "^C\n"
          ]
        }
      ]
    },
    {
      "cell_type": "code",
      "source": [],
      "metadata": {
        "id": "aNMcKjmD6H2M"
      },
      "execution_count": null,
      "outputs": []
    }
  ]
}